{
 "cells": [
  {
   "cell_type": "code",
   "execution_count": 1,
   "metadata": {},
   "outputs": [
    {
     "data": {
      "text/html": [
       "<div>\n",
       "<style scoped>\n",
       "    .dataframe tbody tr th:only-of-type {\n",
       "        vertical-align: middle;\n",
       "    }\n",
       "\n",
       "    .dataframe tbody tr th {\n",
       "        vertical-align: top;\n",
       "    }\n",
       "\n",
       "    .dataframe thead th {\n",
       "        text-align: right;\n",
       "    }\n",
       "</style>\n",
       "<table border=\"1\" class=\"dataframe\">\n",
       "  <thead>\n",
       "    <tr style=\"text-align: right;\">\n",
       "      <th></th>\n",
       "      <th>x</th>\n",
       "      <th>y</th>\n",
       "      <th>z</th>\n",
       "    </tr>\n",
       "  </thead>\n",
       "  <tbody>\n",
       "    <tr>\n",
       "      <th>0</th>\n",
       "      <td>0</td>\n",
       "      <td>0</td>\n",
       "      <td>0</td>\n",
       "    </tr>\n",
       "    <tr>\n",
       "      <th>1</th>\n",
       "      <td>0</td>\n",
       "      <td>1</td>\n",
       "      <td>0</td>\n",
       "    </tr>\n",
       "    <tr>\n",
       "      <th>2</th>\n",
       "      <td>0</td>\n",
       "      <td>2</td>\n",
       "      <td>0</td>\n",
       "    </tr>\n",
       "    <tr>\n",
       "      <th>3</th>\n",
       "      <td>0</td>\n",
       "      <td>3</td>\n",
       "      <td>0</td>\n",
       "    </tr>\n",
       "    <tr>\n",
       "      <th>4</th>\n",
       "      <td>0</td>\n",
       "      <td>4</td>\n",
       "      <td>0</td>\n",
       "    </tr>\n",
       "    <tr>\n",
       "      <th>...</th>\n",
       "      <td>...</td>\n",
       "      <td>...</td>\n",
       "      <td>...</td>\n",
       "    </tr>\n",
       "    <tr>\n",
       "      <th>164</th>\n",
       "      <td>12</td>\n",
       "      <td>8</td>\n",
       "      <td>96</td>\n",
       "    </tr>\n",
       "    <tr>\n",
       "      <th>165</th>\n",
       "      <td>12</td>\n",
       "      <td>9</td>\n",
       "      <td>108</td>\n",
       "    </tr>\n",
       "    <tr>\n",
       "      <th>166</th>\n",
       "      <td>12</td>\n",
       "      <td>10</td>\n",
       "      <td>120</td>\n",
       "    </tr>\n",
       "    <tr>\n",
       "      <th>167</th>\n",
       "      <td>12</td>\n",
       "      <td>11</td>\n",
       "      <td>132</td>\n",
       "    </tr>\n",
       "    <tr>\n",
       "      <th>168</th>\n",
       "      <td>12</td>\n",
       "      <td>12</td>\n",
       "      <td>144</td>\n",
       "    </tr>\n",
       "  </tbody>\n",
       "</table>\n",
       "<p>169 rows × 3 columns</p>\n",
       "</div>"
      ],
      "text/plain": [
       "      x   y    z\n",
       "0     0   0    0\n",
       "1     0   1    0\n",
       "2     0   2    0\n",
       "3     0   3    0\n",
       "4     0   4    0\n",
       "..   ..  ..  ...\n",
       "164  12   8   96\n",
       "165  12   9  108\n",
       "166  12  10  120\n",
       "167  12  11  132\n",
       "168  12  12  144\n",
       "\n",
       "[169 rows x 3 columns]"
      ]
     },
     "execution_count": 1,
     "metadata": {},
     "output_type": "execute_result"
    }
   ],
   "source": [
    "import pandas as pd\n",
    "from libmlops.data.data_loading import explore_dataset\n",
    "\n",
    "data = []\n",
    "# Create lists for x, y, and z\n",
    "for x in range(13):\n",
    "    for y in range(13):\n",
    "        data.append([x, y, x * y])\n",
    "\n",
    "# Create a DataFrame from the dictionary\n",
    "dataset = pd.DataFrame(data, columns=[\"x\", \"y\", \"z\"])\n",
    "# explore_dataset(dataset, show_ui=True)\n",
    "dataset"
   ]
  },
  {
   "cell_type": "code",
   "execution_count": 2,
   "id": "3c13e561",
   "metadata": {},
   "outputs": [
    {
     "name": "stdout",
     "output_type": "stream",
     "text": [
      "LINR [1] [0. 1.]\n",
      "RDG [1] [0. 1.]\n",
      "LSO [1] [0. 1.]\n",
      "ELN [0] [1. 0.]\n",
      "DTR [0] [1. 0.]\n",
      "RFR [0] [1. 0.]\n",
      "SVR [1] [0. 1.]\n",
      "KNR [0] [1. 0.]\n",
      "GBR [1] [0. 1.]\n",
      "[1, 0]\n",
      "['x', 'y']\n"
     ]
    },
    {
     "data": {
      "text/html": [
       "<div>\n",
       "<style scoped>\n",
       "    .dataframe tbody tr th:only-of-type {\n",
       "        vertical-align: middle;\n",
       "    }\n",
       "\n",
       "    .dataframe tbody tr th {\n",
       "        vertical-align: top;\n",
       "    }\n",
       "\n",
       "    .dataframe thead th {\n",
       "        text-align: right;\n",
       "    }\n",
       "</style>\n",
       "<table border=\"1\" class=\"dataframe\">\n",
       "  <thead>\n",
       "    <tr style=\"text-align: right;\">\n",
       "      <th></th>\n",
       "      <th>x</th>\n",
       "      <th>y</th>\n",
       "    </tr>\n",
       "  </thead>\n",
       "  <tbody>\n",
       "    <tr>\n",
       "      <th>0</th>\n",
       "      <td>0</td>\n",
       "      <td>0</td>\n",
       "    </tr>\n",
       "    <tr>\n",
       "      <th>1</th>\n",
       "      <td>0</td>\n",
       "      <td>1</td>\n",
       "    </tr>\n",
       "    <tr>\n",
       "      <th>2</th>\n",
       "      <td>0</td>\n",
       "      <td>2</td>\n",
       "    </tr>\n",
       "    <tr>\n",
       "      <th>3</th>\n",
       "      <td>0</td>\n",
       "      <td>3</td>\n",
       "    </tr>\n",
       "    <tr>\n",
       "      <th>4</th>\n",
       "      <td>0</td>\n",
       "      <td>4</td>\n",
       "    </tr>\n",
       "  </tbody>\n",
       "</table>\n",
       "</div>"
      ],
      "text/plain": [
       "   x  y\n",
       "0  0  0\n",
       "1  0  1\n",
       "2  0  2\n",
       "3  0  3\n",
       "4  0  4"
      ]
     },
     "execution_count": 2,
     "metadata": {},
     "output_type": "execute_result"
    }
   ],
   "source": [
    "from libmlops.data.data_preprocessing import get_xy\n",
    "from libmlops.features.feature_selection import convert_indices\n",
    "from libmlops.utils.regressor_evaluation import features_evaluation\n",
    "from libmlops.utils.features_evaluation import keep_features\n",
    "\n",
    "X, Y = get_xy(dataset)\n",
    "features = features_evaluation(X, Y, verbose=True)\n",
    "features = convert_indices(dataset, features)\n",
    "print(features)\n",
    "dataset_reduced = keep_features(dataset, features)\n",
    "\n",
    "dataset_reduced.head()"
   ]
  },
  {
   "cell_type": "code",
   "execution_count": 3,
   "id": "9a61fc07",
   "metadata": {},
   "outputs": [
    {
     "name": "stdout",
     "output_type": "stream",
     "text": [
      "get_feature_importance [0. 1.]\n",
      "get_k_best_features [0. 0.]\n",
      "get_recursive_feature_elimination [0. 1.]\n",
      "get_linear_regression [0. 1.]\n",
      "get_decision_tree [1. 0.]\n"
     ]
    }
   ],
   "source": [
    "from numpy import set_printoptions\n",
    "from libmlops.features.feature_evaluation import (\n",
    "    get_feature_importance,\n",
    "    get_k_best_features,\n",
    "    get_recursive_feature_elimination,\n",
    "    get_linear_regression,\n",
    "    get_decision_tree,\n",
    ")\n",
    "\n",
    "set_printoptions(precision=2)\n",
    "print(\"get_feature_importance\", get_feature_importance(X, Y, verbose=False))\n",
    "print(\"get_k_best_features\", get_k_best_features(X, Y, verbose=False))\n",
    "print(\n",
    "    \"get_recursive_feature_elimination\",\n",
    "    get_recursive_feature_elimination(X, Y, verbose=False),\n",
    ")\n",
    "print(\"get_linear_regression\", get_linear_regression(X, Y, verbose=False))\n",
    "print(\"get_decision_tree\", get_decision_tree(X, Y, verbose=False))"
   ]
  },
  {
   "cell_type": "code",
   "execution_count": 4,
   "id": "668c76d3",
   "metadata": {},
   "outputs": [
    {
     "name": "stdout",
     "output_type": "stream",
     "text": [
      "LINR: -10.772804 (2.550442)\n",
      "RDG: -10.772379 (2.551626)\n",
      "LSO: -10.773490 (2.582273)\n",
      "ELN: -10.809300 (2.642974)\n",
      "DTR: -4.149265 (0.882353)\n",
      "RFR: -1.706570 (0.614915)\n",
      "SVR: -11.737331 (3.389858)\n",
      "KNR: -2.769412 (0.719192)\n",
      "GBR: -1.609443 (0.483060)\n"
     ]
    },
    {
     "data": {
      "image/png": "[encoded data removed]",
      "text/plain": [
       "<Figure size 640x480 with 1 Axes>"
      ]
     },
     "metadata": {},
     "output_type": "display_data"
    }
   ],
   "source": [
    "from libmlops.utils.regressor_evaluation import (\n",
    "    algorithm_evaluation,\n",
    "    compare_algorithms,\n",
    ")\n",
    "\n",
    "X = dataset_reduced\n",
    "Y = dataset[[\"z\"]]\n",
    "results, names = algorithm_evaluation(X, Y, verbose=True)\n",
    "compare_algorithms(results, names)"
   ]
  },
  {
   "cell_type": "code",
   "execution_count": 5,
   "id": "7a2b38dd",
   "metadata": {},
   "outputs": [],
   "source": [
    "from libmlops.data.data_loading import save_datasets\n",
    "from libmlops.data.data_preprocessing import split_train_test_xy\n",
    "\n",
    "\n",
    "X_train, X_validation, Y_train, Y_validation = split_train_test_xy(X, Y, random_state=1)\n",
    "save_datasets(\n",
    "    [X_train, X_validation, Y_train, Y_validation],\n",
    "    [\"X_train\", \"X_validation\", \"Y_train\", \"Y_validation\"],\n",
    "    save_path=\"../data/processed\",\n",
    ")"
   ]
  },
  {
   "cell_type": "code",
   "execution_count": 6,
   "id": "ac82ffb9",
   "metadata": {},
   "outputs": [
    {
     "name": "stdout",
     "output_type": "stream",
     "text": [
      "Loading training datasets\n",
      "Does not exist - creating new model\n",
      "Saving model\n",
      "Training model\n",
      "Saving model\n"
     ]
    }
   ],
   "source": [
    "from sklearn.ensemble import RandomForestRegressor, GradientBoostingRegressor\n",
    "from libmlops.data.data_loading import load_datasets\n",
    "from libmlops.models.model_loading import load_models, save_models\n",
    "from libmlops.models.model_training import train_model\n",
    "\n",
    "LOAD_MODEL = False\n",
    "print(\"Loading training datasets\")\n",
    "[X_train, Y_train] = load_datasets(\n",
    "    [\"X_train\", \"Y_train\"], save_path=\"../data/processed/\"\n",
    ")\n",
    "model = []\n",
    "model_name = \"finalised_model\"\n",
    "if LOAD_MODEL:\n",
    "    print(\"Loading previous model\")\n",
    "    [model] = load_models(model_name, save_path=\"../data/processed/\")\n",
    "if model == []:\n",
    "    print(\"Does not exist - creating new model\")\n",
    "    # model = RandomForestRegressor(n_jobs=-1)\n",
    "    model = GradientBoostingRegressor()\n",
    "    print(\"Saving model\")\n",
    "    save_models(model, model_name, save_path=\"../data/processed/\")\n",
    "print(\"Training model\")\n",
    "train_model(model, X_train, Y_train.values.ravel())\n",
    "print(\"Saving model\")\n",
    "save_models(model, model_name, save_path=\"../data/processed/\")"
   ]
  },
  {
   "cell_type": "code",
   "execution_count": 7,
   "id": "12ad572d",
   "metadata": {},
   "outputs": [
    {
     "name": "stdout",
     "output_type": "stream",
     "text": [
      "Loading validation datasets\n",
      "Loading previous model\n",
      "Evaluating model\n",
      "R-squared (coefficient of determination) regression score:  0.9889227863442691\n",
      "Mean Absolute Error: 1.914117647058824\n",
      "Cross-validation: -9.713810 Mean (4.460018 Standard)\n"
     ]
    }
   ],
   "source": [
    "from libmlops.data.data_loading import load_datasets\n",
    "from libmlops.models.model_loading import load_models\n",
    "from libmlops.utils.regressor_evaluation import model_evaluation\n",
    "\n",
    "print(\"Loading validation datasets\")\n",
    "[X_validation, Y_validation] = load_datasets(\n",
    "    [\"X_validation\", \"Y_validation\"], save_path=\"../data/processed/\"\n",
    ")\n",
    "\n",
    "print(\"Loading previous model\")\n",
    "model_name = \"finalised_model\"\n",
    "[model] = load_models(model_name, save_path=\"../data/processed/\")\n",
    "\n",
    "print(\"Evaluating model\")\n",
    "r2, mae, cv_results_mean, cv_results_std = model_evaluation(\n",
    "    model, X_validation, Y_validation\n",
    ")\n",
    "print(\"R-squared (coefficient of determination) regression score: \", r2)\n",
    "print(\"Mean Absolute Error:\", mae)\n",
    "print(\"Cross-validation: %f Mean (%f Standard)\" % (cv_results_mean, cv_results_std))"
   ]
  },
  {
   "cell_type": "code",
   "execution_count": 8,
   "id": "038b204c",
   "metadata": {},
   "outputs": [
    {
     "name": "stdout",
     "output_type": "stream",
     "text": [
      "Loading previous model\n"
     ]
    },
    {
     "data": {
      "text/html": [
       "<div>\n",
       "<style scoped>\n",
       "    .dataframe tbody tr th:only-of-type {\n",
       "        vertical-align: middle;\n",
       "    }\n",
       "\n",
       "    .dataframe tbody tr th {\n",
       "        vertical-align: top;\n",
       "    }\n",
       "\n",
       "    .dataframe thead th {\n",
       "        text-align: right;\n",
       "    }\n",
       "</style>\n",
       "<table border=\"1\" class=\"dataframe\">\n",
       "  <thead>\n",
       "    <tr style=\"text-align: right;\">\n",
       "      <th></th>\n",
       "      <th>x</th>\n",
       "      <th>y</th>\n",
       "    </tr>\n",
       "  </thead>\n",
       "  <tbody>\n",
       "    <tr>\n",
       "      <th>0</th>\n",
       "      <td>1</td>\n",
       "      <td>1</td>\n",
       "    </tr>\n",
       "    <tr>\n",
       "      <th>1</th>\n",
       "      <td>2</td>\n",
       "      <td>2</td>\n",
       "    </tr>\n",
       "    <tr>\n",
       "      <th>2</th>\n",
       "      <td>4</td>\n",
       "      <td>4</td>\n",
       "    </tr>\n",
       "    <tr>\n",
       "      <th>3</th>\n",
       "      <td>8</td>\n",
       "      <td>8</td>\n",
       "    </tr>\n",
       "    <tr>\n",
       "      <th>4</th>\n",
       "      <td>12</td>\n",
       "      <td>12</td>\n",
       "    </tr>\n",
       "  </tbody>\n",
       "</table>\n",
       "</div>"
      ],
      "text/plain": [
       "    x   y\n",
       "0   1   1\n",
       "1   2   2\n",
       "2   4   4\n",
       "3   8   8\n",
       "4  12  12"
      ]
     },
     "execution_count": 8,
     "metadata": {},
     "output_type": "execute_result"
    }
   ],
   "source": [
    "import pandas as pd\n",
    "\n",
    "print(\"Loading previous model\")\n",
    "model_name = \"finalised_model\"\n",
    "[model] = load_models(model_name, save_path=\"../data/processed/\")\n",
    "\n",
    "names = [\n",
    "    \"x\",\n",
    "    \"y\",\n",
    "]\n",
    "data = [[1, 1], [2, 2], [4, 4], [8, 8], [12, 12]]\n",
    "\n",
    "df = pd.DataFrame(data, columns=names)\n",
    "\n",
    "df"
   ]
  },
  {
   "cell_type": "code",
   "execution_count": 9,
   "id": "844291c9",
   "metadata": {},
   "outputs": [
    {
     "name": "stdout",
     "output_type": "stream",
     "text": [
      "0 [1 1] [1.12]\n",
      "1 [2 2] [3.84]\n",
      "2 [4 4] [16.31]\n",
      "3 [8 8] [64.13]\n",
      "4 [12 12] [137.8]\n"
     ]
    }
   ],
   "source": [
    "for index, row in df.iterrows():\n",
    "    # test the model with 1 row\n",
    "    print(\n",
    "        index, row.values, model.predict(pd.DataFrame([row.values], columns=row.index))\n",
    "    )"
   ]
  }
 ],
 "metadata": {
  "kernelspec": {
   "display_name": "Python 3",
   "language": "python",
   "name": "python3"
  },
  "language_info": {
   "codemirror_mode": {
    "name": "ipython",
    "version": 3
   },
   "file_extension": ".py",
   "mimetype": "text/x-python",
   "name": "python",
   "nbconvert_exporter": "python",
   "pygments_lexer": "ipython3",
   "version": "3.11.6"
  },
  "varInspector": {
   "cols": {
    "lenName": 16,
    "lenType": 16,
    "lenVar": 40
   },
   "kernels_config": {
    "python": {
     "delete_cmd_postfix": "",
     "delete_cmd_prefix": "del ",
     "library": "var_list.py",
     "varRefreshCmd": "print(var_dic_list())"
    },
    "r": {
     "delete_cmd_postfix": ") ",
     "delete_cmd_prefix": "rm(",
     "library": "var_list.r",
     "varRefreshCmd": "cat(var_dic_list()) "
    }
   },
   "types_to_exclude": [
    "module",
    "function",
    "builtin_function_or_method",
    "instance",
    "_Feature"
   ],
   "window_display": false
  }
 },
 "nbformat": 4,
 "nbformat_minor": 5
}
