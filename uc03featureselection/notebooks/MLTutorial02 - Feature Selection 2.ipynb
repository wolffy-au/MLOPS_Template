{
 "cells": [
  {
   "cell_type": "code",
   "execution_count": 1,
   "metadata": {},
   "outputs": [],
   "source": [
    "from libmlops.data.data_loading import load_csv_data\n",
    "from libmlops.data.data_preprocessing import get_xy\n",
    "\n",
    "# Load dataset\n",
    "file_path = \"../data/external/pima-indians-diabetes.csv\"\n",
    "names = [\"preg\", \"plas\", \"pres\", \"skin\", \"test\", \"mass\", \"pedi\", \"age\", \"class\"]\n",
    "dataset = load_csv_data(file_path, names=names)\n",
    "\n",
    "# explore_dataset(dataset)\n",
    "\n",
    "X, Y = get_xy(dataset)"
   ]
  },
  {
   "cell_type": "code",
   "execution_count": 2,
   "metadata": {},
   "outputs": [
    {
     "name": "stdout",
     "output_type": "stream",
     "text": [
      "get_feature_importance [0.24 1.   0.19 0.03 0.   0.43 0.28 0.46]\n",
      "get_k_best_features [0.17 1.   0.   0.   0.05 0.33 0.1  0.2 ]\n",
      "get_recursive_feature_elimination [0.14 0.43 0.71 1.   0.86 0.29 0.   0.57]\n",
      "get_linear_regression [0.15 0.06 0.   0.02 0.01 0.1  1.   0.03]\n",
      "get_decision_tree [0.11 1.   0.26 0.   0.09 0.72 0.3  0.36]\n"
     ]
    }
   ],
   "source": [
    "from numpy import set_printoptions\n",
    "from libmlops.features.feature_evaluation import (\n",
    "    get_feature_importance,\n",
    "    get_k_best_features,\n",
    "    get_recursive_feature_elimination,\n",
    "    get_linear_regression,\n",
    "    get_decision_tree,\n",
    ")\n",
    "\n",
    "set_printoptions(precision=2)\n",
    "print(\"get_feature_importance\", get_feature_importance(X, Y, verbose=False))\n",
    "print(\"get_k_best_features\", get_k_best_features(X, Y, verbose=False))\n",
    "print(\n",
    "    \"get_recursive_feature_elimination\",\n",
    "    get_recursive_feature_elimination(X, Y, verbose=False),\n",
    ")\n",
    "print(\"get_linear_regression\", get_linear_regression(X, Y, verbose=False))\n",
    "print(\"get_decision_tree\", get_decision_tree(X, Y, verbose=False))"
   ]
  },
  {
   "cell_type": "code",
   "execution_count": 3,
   "id": "588637df",
   "metadata": {},
   "outputs": [
    {
     "name": "stdout",
     "output_type": "stream",
     "text": [
      "LR [1]\n",
      "LDA [1]\n",
      "KNN [1]\n",
      "CART [1, 5, 7]\n",
      "NB [1]\n",
      "SVM [0, 1, 2, 3, 4, 5, 7]\n",
      "[1, 5, 7, 0, 2, 3, 4]\n"
     ]
    },
    {
     "data": {
      "text/html": [
       "<div>\n",
       "<style scoped>\n",
       "    .dataframe tbody tr th:only-of-type {\n",
       "        vertical-align: middle;\n",
       "    }\n",
       "\n",
       "    .dataframe tbody tr th {\n",
       "        vertical-align: top;\n",
       "    }\n",
       "\n",
       "    .dataframe thead th {\n",
       "        text-align: right;\n",
       "    }\n",
       "</style>\n",
       "<table border=\"1\" class=\"dataframe\">\n",
       "  <thead>\n",
       "    <tr style=\"text-align: right;\">\n",
       "      <th></th>\n",
       "      <th>preg</th>\n",
       "      <th>plas</th>\n",
       "      <th>pres</th>\n",
       "      <th>skin</th>\n",
       "      <th>test</th>\n",
       "      <th>mass</th>\n",
       "      <th>age</th>\n",
       "    </tr>\n",
       "  </thead>\n",
       "  <tbody>\n",
       "    <tr>\n",
       "      <th>0</th>\n",
       "      <td>6</td>\n",
       "      <td>148</td>\n",
       "      <td>72</td>\n",
       "      <td>35</td>\n",
       "      <td>0</td>\n",
       "      <td>33.6</td>\n",
       "      <td>50</td>\n",
       "    </tr>\n",
       "    <tr>\n",
       "      <th>1</th>\n",
       "      <td>1</td>\n",
       "      <td>85</td>\n",
       "      <td>66</td>\n",
       "      <td>29</td>\n",
       "      <td>0</td>\n",
       "      <td>26.6</td>\n",
       "      <td>31</td>\n",
       "    </tr>\n",
       "    <tr>\n",
       "      <th>2</th>\n",
       "      <td>8</td>\n",
       "      <td>183</td>\n",
       "      <td>64</td>\n",
       "      <td>0</td>\n",
       "      <td>0</td>\n",
       "      <td>23.3</td>\n",
       "      <td>32</td>\n",
       "    </tr>\n",
       "    <tr>\n",
       "      <th>3</th>\n",
       "      <td>1</td>\n",
       "      <td>89</td>\n",
       "      <td>66</td>\n",
       "      <td>23</td>\n",
       "      <td>94</td>\n",
       "      <td>28.1</td>\n",
       "      <td>21</td>\n",
       "    </tr>\n",
       "    <tr>\n",
       "      <th>4</th>\n",
       "      <td>0</td>\n",
       "      <td>137</td>\n",
       "      <td>40</td>\n",
       "      <td>35</td>\n",
       "      <td>168</td>\n",
       "      <td>43.1</td>\n",
       "      <td>33</td>\n",
       "    </tr>\n",
       "    <tr>\n",
       "      <th>...</th>\n",
       "      <td>...</td>\n",
       "      <td>...</td>\n",
       "      <td>...</td>\n",
       "      <td>...</td>\n",
       "      <td>...</td>\n",
       "      <td>...</td>\n",
       "      <td>...</td>\n",
       "    </tr>\n",
       "    <tr>\n",
       "      <th>763</th>\n",
       "      <td>10</td>\n",
       "      <td>101</td>\n",
       "      <td>76</td>\n",
       "      <td>48</td>\n",
       "      <td>180</td>\n",
       "      <td>32.9</td>\n",
       "      <td>63</td>\n",
       "    </tr>\n",
       "    <tr>\n",
       "      <th>764</th>\n",
       "      <td>2</td>\n",
       "      <td>122</td>\n",
       "      <td>70</td>\n",
       "      <td>27</td>\n",
       "      <td>0</td>\n",
       "      <td>36.8</td>\n",
       "      <td>27</td>\n",
       "    </tr>\n",
       "    <tr>\n",
       "      <th>765</th>\n",
       "      <td>5</td>\n",
       "      <td>121</td>\n",
       "      <td>72</td>\n",
       "      <td>23</td>\n",
       "      <td>112</td>\n",
       "      <td>26.2</td>\n",
       "      <td>30</td>\n",
       "    </tr>\n",
       "    <tr>\n",
       "      <th>766</th>\n",
       "      <td>1</td>\n",
       "      <td>126</td>\n",
       "      <td>60</td>\n",
       "      <td>0</td>\n",
       "      <td>0</td>\n",
       "      <td>30.1</td>\n",
       "      <td>47</td>\n",
       "    </tr>\n",
       "    <tr>\n",
       "      <th>767</th>\n",
       "      <td>1</td>\n",
       "      <td>93</td>\n",
       "      <td>70</td>\n",
       "      <td>31</td>\n",
       "      <td>0</td>\n",
       "      <td>30.4</td>\n",
       "      <td>23</td>\n",
       "    </tr>\n",
       "  </tbody>\n",
       "</table>\n",
       "<p>768 rows × 7 columns</p>\n",
       "</div>"
      ],
      "text/plain": [
       "     preg  plas  pres  skin  test  mass  age\n",
       "0       6   148    72    35     0  33.6   50\n",
       "1       1    85    66    29     0  26.6   31\n",
       "2       8   183    64     0     0  23.3   32\n",
       "3       1    89    66    23    94  28.1   21\n",
       "4       0   137    40    35   168  43.1   33\n",
       "..    ...   ...   ...   ...   ...   ...  ...\n",
       "763    10   101    76    48   180  32.9   63\n",
       "764     2   122    70    27     0  36.8   27\n",
       "765     5   121    72    23   112  26.2   30\n",
       "766     1   126    60     0     0  30.1   47\n",
       "767     1    93    70    31     0  30.4   23\n",
       "\n",
       "[768 rows x 7 columns]"
      ]
     },
     "execution_count": 3,
     "metadata": {},
     "output_type": "execute_result"
    }
   ],
   "source": [
    "from libmlops.utils.classifier_evaluation import features_evaluation\n",
    "\n",
    "features = []\n",
    "# 1. Comment this out if you want to disable feature selection\n",
    "features = features_evaluation(X, Y, verbose=True)\n",
    "\n",
    "features\n",
    "# 2. Comment this out if you want to test integer indices\n",
    "# features = [dataset.columns[v] for v in features]\n",
    "\n",
    "features\n",
    "from libmlops.utils.features_evaluation import keep_features\n",
    "\n",
    "# 1. Comment this out if you want to disable feature selection\n",
    "X = keep_features(dataset, features)\n",
    "X"
   ]
  },
  {
   "cell_type": "code",
   "execution_count": 4,
   "id": "77afa4bd",
   "metadata": {},
   "outputs": [
    {
     "name": "stdout",
     "output_type": "stream",
     "text": [
      "LR: 0.764217 (0.053882)\n",
      "LDA: 0.765516 (0.055104)\n",
      "KNN: 0.726504 (0.038093)\n",
      "CART: 0.662765 (0.052075)\n",
      "NB: 0.746087 (0.060579)\n",
      "SVM: 0.651059 (0.003418)\n"
     ]
    },
    {
     "data": {
      "image/png": "[encoded data removed]",
      "text/plain": [
       "<Figure size 640x480 with 1 Axes>"
      ]
     },
     "metadata": {},
     "output_type": "display_data"
    }
   ],
   "source": [
    "from libmlops.utils.classifier_evaluation import (\n",
    "    algorithm_evaluation,\n",
    "    compare_algorithms,\n",
    ")\n",
    "\n",
    "results, algors = algorithm_evaluation(X, Y, verbose=True)\n",
    "compare_algorithms(results, algors)"
   ]
  },
  {
   "cell_type": "code",
   "execution_count": 5,
   "id": "0fe2daf9",
   "metadata": {},
   "outputs": [],
   "source": [
    "from libmlops.data.data_preprocessing import split_train_test_xy\n",
    "\n",
    "X_train, X_validation, Y_train, Y_validation = split_train_test_xy(X, Y, random_state=1)"
   ]
  },
  {
   "cell_type": "code",
   "execution_count": 6,
   "id": "ed6060cb",
   "metadata": {},
   "outputs": [
    {
     "name": "stdout",
     "output_type": "stream",
     "text": [
      "Training model\n"
     ]
    }
   ],
   "source": [
    "from sklearn.discriminant_analysis import LinearDiscriminantAnalysis\n",
    "from libmlops.models.model_training import train_model\n",
    "\n",
    "model = LinearDiscriminantAnalysis()\n",
    "print(\"Training model\")\n",
    "train_model(model, X_train, Y_train)"
   ]
  },
  {
   "cell_type": "code",
   "execution_count": 7,
   "id": "719f8ba5",
   "metadata": {},
   "outputs": [
    {
     "name": "stdout",
     "output_type": "stream",
     "text": [
      "Evaluating model\n",
      "Accuracy score:  0.7792207792207793 \n",
      "\n",
      "Classification report:\n",
      "               precision    recall  f1-score   support\n",
      "\n",
      "           0       0.78      0.91      0.84        99\n",
      "           1       0.77      0.55      0.64        55\n",
      "\n",
      "    accuracy                           0.78       154\n",
      "   macro avg       0.78      0.73      0.74       154\n",
      "weighted avg       0.78      0.78      0.77       154\n",
      "\n",
      "Cross-validation: 0.740430 Mean (0.039710 Standard)\n",
      "Confusion Matrix:\n",
      " [[0.91 0.09]\n",
      " [0.45 0.55]]\n"
     ]
    },
    {
     "data": {
      "image/png": "[encoded data removed]",
      "text/plain": [
       "<Figure size 640x480 with 2 Axes>"
      ]
     },
     "metadata": {},
     "output_type": "display_data"
    }
   ],
   "source": [
    "from libmlops.models.model_evaluation import (\n",
    "    evaluate_classifier_model,\n",
    "    cross_validate_model,\n",
    "    confusion_matrix_model,\n",
    "    plot_confusion_matrix,\n",
    ")\n",
    "\n",
    "print(\"Evaluating model\")\n",
    "accuracy, report = evaluate_classifier_model(model, X_validation, Y_validation)\n",
    "print(\"Accuracy score: \", accuracy, \"\\n\")\n",
    "print(\"Classification report:\\n\", report)\n",
    "\n",
    "cv_results_mean, cv_results_std = cross_validate_model(\n",
    "    model, X_validation, Y_validation\n",
    ")\n",
    "print(\"Cross-validation: %f Mean (%f Standard)\" % (cv_results_mean, cv_results_std))\n",
    "\n",
    "cm = confusion_matrix_model(model, X_validation, Y_validation)\n",
    "print(\"Confusion Matrix:\\n\", cm)\n",
    "plot_confusion_matrix(cm, model)"
   ]
  },
  {
   "cell_type": "code",
   "execution_count": 8,
   "id": "6899fd7a",
   "metadata": {},
   "outputs": [
    {
     "name": "stdout",
     "output_type": "stream",
     "text": [
      "[1, 5, 7, 0, 2, 3, 4] Index(['preg', 'plas', 'pres', 'skin', 'test', 'mass', 'age'], dtype='object')\n",
      "[1]\n",
      "[1]\n",
      "[1]\n",
      "[0]\n",
      "[1]\n",
      "[0]\n",
      "[1]\n",
      "[1]\n"
     ]
    }
   ],
   "source": [
    "import pandas as pd\n",
    "from libmlops.utils.features_evaluation import keep_features\n",
    "\n",
    "names = [\"preg\", \"plas\", \"pres\", \"skin\", \"test\", \"mass\", \"pedi\", \"age\"]\n",
    "data = [\n",
    "    [6, 148, 72, 35, 0, 33.6, 0.627, 50],\n",
    "    [8, 183, 64, 0, 0, 23.3, 0.672, 32],\n",
    "    [0, 137, 40, 35, 168, 43.1, 2.288, 33],\n",
    "    [3, 78, 50, 32, 88, 31.0, 0.248, 26],\n",
    "    [2, 197, 70, 45, 543, 30.5, 0.158, 53],\n",
    "    [8, 125, 96, 0, 0, 0.0, 0.232, 54],\n",
    "    [10, 168, 74, 0, 0, 38.0, 0.537, 34],\n",
    "    [1, 189, 60, 23, 846, 30.1, 0.398, 59],\n",
    "]\n",
    "df = pd.DataFrame(data, columns=names)\n",
    "\n",
    "if features != []:\n",
    "    df = keep_features(df, features)\n",
    "    print(features, df.columns)\n",
    "\n",
    "for index, row in df.iterrows():\n",
    "    # test the model with 1 row\n",
    "    print(model.predict(pd.DataFrame([row.values], columns=row.index)))"
   ]
  }
 ],
 "metadata": {
  "kernelspec": {
   "display_name": "Python 3",
   "language": "python",
   "name": "python3"
  },
  "language_info": {
   "codemirror_mode": {
    "name": "ipython",
    "version": 3
   },
   "file_extension": ".py",
   "mimetype": "text/x-python",
   "name": "python",
   "nbconvert_exporter": "python",
   "pygments_lexer": "ipython3",
   "version": "3.11.6"
  },
  "varInspector": {
   "cols": {
    "lenName": 16,
    "lenType": 16,
    "lenVar": 40
   },
   "kernels_config": {
    "python": {
     "delete_cmd_postfix": "",
     "delete_cmd_prefix": "del ",
     "library": "var_list.py",
     "varRefreshCmd": "print(var_dic_list())"
    },
    "r": {
     "delete_cmd_postfix": ") ",
     "delete_cmd_prefix": "rm(",
     "library": "var_list.r",
     "varRefreshCmd": "cat(var_dic_list()) "
    }
   },
   "types_to_exclude": [
    "module",
    "function",
    "builtin_function_or_method",
    "instance",
    "_Feature"
   ],
   "window_display": false
  }
 },
 "nbformat": 4,
 "nbformat_minor": 5
}
